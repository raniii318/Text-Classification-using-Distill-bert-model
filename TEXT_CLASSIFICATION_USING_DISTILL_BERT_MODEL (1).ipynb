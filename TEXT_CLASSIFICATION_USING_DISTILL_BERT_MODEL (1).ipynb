{
  "nbformat": 4,
  "nbformat_minor": 0,
  "metadata": {
    "colab": {
      "provenance": [],
      "gpuType": "T4"
    },
    "kernelspec": {
      "name": "python3",
      "display_name": "Python 3"
    },
    "language_info": {
      "name": "python"
    },
    "accelerator": "GPU",
    "widgets": {
      "application/vnd.jupyter.widget-state+json": {
        "b7a1f6e2868a4b0289eace47feeb0ab7": {
          "model_module": "@jupyter-widgets/controls",
          "model_name": "HBoxModel",
          "model_module_version": "1.5.0",
          "state": {
            "_dom_classes": [],
            "_model_module": "@jupyter-widgets/controls",
            "_model_module_version": "1.5.0",
            "_model_name": "HBoxModel",
            "_view_count": null,
            "_view_module": "@jupyter-widgets/controls",
            "_view_module_version": "1.5.0",
            "_view_name": "HBoxView",
            "box_style": "",
            "children": [
              "IPY_MODEL_fba7de317c0c4d7584f673059c0d9ac1",
              "IPY_MODEL_a83d1042cd8841a1bd527a58c085c450",
              "IPY_MODEL_a6de7085c2bb438a942cda553cca2f98"
            ],
            "layout": "IPY_MODEL_f1d194f894a645d6a10b689b841d0385"
          }
        },
        "fba7de317c0c4d7584f673059c0d9ac1": {
          "model_module": "@jupyter-widgets/controls",
          "model_name": "HTMLModel",
          "model_module_version": "1.5.0",
          "state": {
            "_dom_classes": [],
            "_model_module": "@jupyter-widgets/controls",
            "_model_module_version": "1.5.0",
            "_model_name": "HTMLModel",
            "_view_count": null,
            "_view_module": "@jupyter-widgets/controls",
            "_view_module_version": "1.5.0",
            "_view_name": "HTMLView",
            "description": "",
            "description_tooltip": null,
            "layout": "IPY_MODEL_fd266a73d03d471ba530f99f26423c1a",
            "placeholder": "​",
            "style": "IPY_MODEL_0282c7d24aa24a6da2b631c431a973b9",
            "value": "model.safetensors: 100%"
          }
        },
        "a83d1042cd8841a1bd527a58c085c450": {
          "model_module": "@jupyter-widgets/controls",
          "model_name": "FloatProgressModel",
          "model_module_version": "1.5.0",
          "state": {
            "_dom_classes": [],
            "_model_module": "@jupyter-widgets/controls",
            "_model_module_version": "1.5.0",
            "_model_name": "FloatProgressModel",
            "_view_count": null,
            "_view_module": "@jupyter-widgets/controls",
            "_view_module_version": "1.5.0",
            "_view_name": "ProgressView",
            "bar_style": "success",
            "description": "",
            "description_tooltip": null,
            "layout": "IPY_MODEL_cb6c00dff9204098af4d30bdead9b2a2",
            "max": 267954768,
            "min": 0,
            "orientation": "horizontal",
            "style": "IPY_MODEL_54eeba9f72184499bbfb45265955dcd1",
            "value": 267954768
          }
        },
        "a6de7085c2bb438a942cda553cca2f98": {
          "model_module": "@jupyter-widgets/controls",
          "model_name": "HTMLModel",
          "model_module_version": "1.5.0",
          "state": {
            "_dom_classes": [],
            "_model_module": "@jupyter-widgets/controls",
            "_model_module_version": "1.5.0",
            "_model_name": "HTMLModel",
            "_view_count": null,
            "_view_module": "@jupyter-widgets/controls",
            "_view_module_version": "1.5.0",
            "_view_name": "HTMLView",
            "description": "",
            "description_tooltip": null,
            "layout": "IPY_MODEL_14c80058a56741dc8f9520e129c0ce27",
            "placeholder": "​",
            "style": "IPY_MODEL_a68d92eed62d4e4eb06098d0a53091df",
            "value": " 268M/268M [00:01&lt;00:00, 170MB/s]"
          }
        },
        "f1d194f894a645d6a10b689b841d0385": {
          "model_module": "@jupyter-widgets/base",
          "model_name": "LayoutModel",
          "model_module_version": "1.2.0",
          "state": {
            "_model_module": "@jupyter-widgets/base",
            "_model_module_version": "1.2.0",
            "_model_name": "LayoutModel",
            "_view_count": null,
            "_view_module": "@jupyter-widgets/base",
            "_view_module_version": "1.2.0",
            "_view_name": "LayoutView",
            "align_content": null,
            "align_items": null,
            "align_self": null,
            "border": null,
            "bottom": null,
            "display": null,
            "flex": null,
            "flex_flow": null,
            "grid_area": null,
            "grid_auto_columns": null,
            "grid_auto_flow": null,
            "grid_auto_rows": null,
            "grid_column": null,
            "grid_gap": null,
            "grid_row": null,
            "grid_template_areas": null,
            "grid_template_columns": null,
            "grid_template_rows": null,
            "height": null,
            "justify_content": null,
            "justify_items": null,
            "left": null,
            "margin": null,
            "max_height": null,
            "max_width": null,
            "min_height": null,
            "min_width": null,
            "object_fit": null,
            "object_position": null,
            "order": null,
            "overflow": null,
            "overflow_x": null,
            "overflow_y": null,
            "padding": null,
            "right": null,
            "top": null,
            "visibility": null,
            "width": null
          }
        },
        "fd266a73d03d471ba530f99f26423c1a": {
          "model_module": "@jupyter-widgets/base",
          "model_name": "LayoutModel",
          "model_module_version": "1.2.0",
          "state": {
            "_model_module": "@jupyter-widgets/base",
            "_model_module_version": "1.2.0",
            "_model_name": "LayoutModel",
            "_view_count": null,
            "_view_module": "@jupyter-widgets/base",
            "_view_module_version": "1.2.0",
            "_view_name": "LayoutView",
            "align_content": null,
            "align_items": null,
            "align_self": null,
            "border": null,
            "bottom": null,
            "display": null,
            "flex": null,
            "flex_flow": null,
            "grid_area": null,
            "grid_auto_columns": null,
            "grid_auto_flow": null,
            "grid_auto_rows": null,
            "grid_column": null,
            "grid_gap": null,
            "grid_row": null,
            "grid_template_areas": null,
            "grid_template_columns": null,
            "grid_template_rows": null,
            "height": null,
            "justify_content": null,
            "justify_items": null,
            "left": null,
            "margin": null,
            "max_height": null,
            "max_width": null,
            "min_height": null,
            "min_width": null,
            "object_fit": null,
            "object_position": null,
            "order": null,
            "overflow": null,
            "overflow_x": null,
            "overflow_y": null,
            "padding": null,
            "right": null,
            "top": null,
            "visibility": null,
            "width": null
          }
        },
        "0282c7d24aa24a6da2b631c431a973b9": {
          "model_module": "@jupyter-widgets/controls",
          "model_name": "DescriptionStyleModel",
          "model_module_version": "1.5.0",
          "state": {
            "_model_module": "@jupyter-widgets/controls",
            "_model_module_version": "1.5.0",
            "_model_name": "DescriptionStyleModel",
            "_view_count": null,
            "_view_module": "@jupyter-widgets/base",
            "_view_module_version": "1.2.0",
            "_view_name": "StyleView",
            "description_width": ""
          }
        },
        "cb6c00dff9204098af4d30bdead9b2a2": {
          "model_module": "@jupyter-widgets/base",
          "model_name": "LayoutModel",
          "model_module_version": "1.2.0",
          "state": {
            "_model_module": "@jupyter-widgets/base",
            "_model_module_version": "1.2.0",
            "_model_name": "LayoutModel",
            "_view_count": null,
            "_view_module": "@jupyter-widgets/base",
            "_view_module_version": "1.2.0",
            "_view_name": "LayoutView",
            "align_content": null,
            "align_items": null,
            "align_self": null,
            "border": null,
            "bottom": null,
            "display": null,
            "flex": null,
            "flex_flow": null,
            "grid_area": null,
            "grid_auto_columns": null,
            "grid_auto_flow": null,
            "grid_auto_rows": null,
            "grid_column": null,
            "grid_gap": null,
            "grid_row": null,
            "grid_template_areas": null,
            "grid_template_columns": null,
            "grid_template_rows": null,
            "height": null,
            "justify_content": null,
            "justify_items": null,
            "left": null,
            "margin": null,
            "max_height": null,
            "max_width": null,
            "min_height": null,
            "min_width": null,
            "object_fit": null,
            "object_position": null,
            "order": null,
            "overflow": null,
            "overflow_x": null,
            "overflow_y": null,
            "padding": null,
            "right": null,
            "top": null,
            "visibility": null,
            "width": null
          }
        },
        "54eeba9f72184499bbfb45265955dcd1": {
          "model_module": "@jupyter-widgets/controls",
          "model_name": "ProgressStyleModel",
          "model_module_version": "1.5.0",
          "state": {
            "_model_module": "@jupyter-widgets/controls",
            "_model_module_version": "1.5.0",
            "_model_name": "ProgressStyleModel",
            "_view_count": null,
            "_view_module": "@jupyter-widgets/base",
            "_view_module_version": "1.2.0",
            "_view_name": "StyleView",
            "bar_color": null,
            "description_width": ""
          }
        },
        "14c80058a56741dc8f9520e129c0ce27": {
          "model_module": "@jupyter-widgets/base",
          "model_name": "LayoutModel",
          "model_module_version": "1.2.0",
          "state": {
            "_model_module": "@jupyter-widgets/base",
            "_model_module_version": "1.2.0",
            "_model_name": "LayoutModel",
            "_view_count": null,
            "_view_module": "@jupyter-widgets/base",
            "_view_module_version": "1.2.0",
            "_view_name": "LayoutView",
            "align_content": null,
            "align_items": null,
            "align_self": null,
            "border": null,
            "bottom": null,
            "display": null,
            "flex": null,
            "flex_flow": null,
            "grid_area": null,
            "grid_auto_columns": null,
            "grid_auto_flow": null,
            "grid_auto_rows": null,
            "grid_column": null,
            "grid_gap": null,
            "grid_row": null,
            "grid_template_areas": null,
            "grid_template_columns": null,
            "grid_template_rows": null,
            "height": null,
            "justify_content": null,
            "justify_items": null,
            "left": null,
            "margin": null,
            "max_height": null,
            "max_width": null,
            "min_height": null,
            "min_width": null,
            "object_fit": null,
            "object_position": null,
            "order": null,
            "overflow": null,
            "overflow_x": null,
            "overflow_y": null,
            "padding": null,
            "right": null,
            "top": null,
            "visibility": null,
            "width": null
          }
        },
        "a68d92eed62d4e4eb06098d0a53091df": {
          "model_module": "@jupyter-widgets/controls",
          "model_name": "DescriptionStyleModel",
          "model_module_version": "1.5.0",
          "state": {
            "_model_module": "@jupyter-widgets/controls",
            "_model_module_version": "1.5.0",
            "_model_name": "DescriptionStyleModel",
            "_view_count": null,
            "_view_module": "@jupyter-widgets/base",
            "_view_module_version": "1.2.0",
            "_view_name": "StyleView",
            "description_width": ""
          }
        }
      }
    }
  },
  "cells": [
    {
      "cell_type": "markdown",
      "source": [
        "                                                   TEXT CLASSIFICATION USING DISTILL - BERT MODEL"
      ],
      "metadata": {
        "id": "gxMtg20Fdp5v"
      }
    },
    {
      "cell_type": "markdown",
      "source": [
        " Load and Preprocess Excel Dataset"
      ],
      "metadata": {
        "id": "0evAkw9wcGzx"
      }
    },
    {
      "cell_type": "code",
      "source": [
        "import pandas as pd\n",
        "import torch\n",
        "from transformers import DistilBertTokenizerFast\n",
        "from sklearn.model_selection import train_test_split\n",
        "\n",
        "# Load the Excel file\n",
        "df = pd.read_excel(\"/content/output_dataset.xlsx\")\n",
        "df.columns = [\"label\", \"text\"]  # Rename the two columns properly\n",
        "\n",
        "# Preview\n",
        "print(df.head())\n",
        "\n",
        "\n",
        "# Preview\n",
        "print(df.head())\n",
        "\n",
        "# Replace 'text' and 'label' below with actual column names if different\n",
        "texts = df['text'].astype(str).tolist()\n",
        "labels = df['label'].tolist()\n",
        "\n",
        "# Train/validation split\n",
        "train_texts, val_texts, train_labels, val_labels = train_test_split(\n",
        "    texts, labels, test_size=0.2, random_state=42\n",
        ")\n",
        "\n",
        "# Load tokenizer\n",
        "tokenizer = DistilBertTokenizerFast.from_pretrained('distilbert-base-uncased')\n",
        "\n",
        "# Tokenize\n",
        "train_encodings = tokenizer(train_texts, truncation=True, padding=True)\n",
        "val_encodings = tokenizer(val_texts, truncation=True, padding=True)\n"
      ],
      "metadata": {
        "colab": {
          "base_uri": "https://localhost:8080/"
        },
        "id": "_EI7EaLoVgWj",
        "outputId": "07cde903-9f3f-4326-bd9b-2a6fe50a1373"
      },
      "execution_count": 2,
      "outputs": [
        {
          "output_type": "stream",
          "name": "stdout",
          "text": [
            "   label                                               text\n",
            "0      0  apparently reassembled from the cutting-room f...\n",
            "1      0  they presume their audience wo n't sit still f...\n",
            "2      1  this is a visually stunning rumination on love...\n",
            "3      1  jonathan parker 's bartleby should have been t...\n",
            "4      1  campanella gets the tone just right -- funny i...\n",
            "   label                                               text\n",
            "0      0  apparently reassembled from the cutting-room f...\n",
            "1      0  they presume their audience wo n't sit still f...\n",
            "2      1  this is a visually stunning rumination on love...\n",
            "3      1  jonathan parker 's bartleby should have been t...\n",
            "4      1  campanella gets the tone just right -- funny i...\n"
          ]
        }
      ]
    },
    {
      "cell_type": "markdown",
      "source": [
        " Dataset & Dataloader (PyTorch)"
      ],
      "metadata": {
        "id": "6OgdfUxlcQ5d"
      }
    },
    {
      "source": [
        "import torch\n",
        "from torch.utils.data import Dataset, DataLoader\n",
        "\n",
        "# Custom dataset class\n",
        "class TextDataset(Dataset):\n",
        "    def __init__(self, encodings, labels):\n",
        "        self.encodings = encodings\n",
        "        self.labels = labels\n",
        "\n",
        "    def __getitem__(self, idx):\n",
        "        return {\n",
        "            key: torch.tensor(val[idx]) for key, val in self.encodings.items()\n",
        "        } | {\"labels\": torch.tensor(self.labels[idx])}\n",
        "\n",
        "    def __len__(self):\n",
        "        return len(self.labels)\n",
        "\n",
        "# Create datasets\n",
        "train_dataset = TextDataset(train_encodings, train_labels)\n",
        "val_dataset = TextDataset(val_encodings, val_labels)\n",
        "\n",
        "# Create dataloaders\n",
        "train_loader = DataLoader(train_dataset, batch_size=16, shuffle=True)\n",
        "val_loader = DataLoader(val_dataset, batch_size=16)\n"
      ],
      "cell_type": "code",
      "metadata": {
        "id": "u8Y50Vn7VvHJ"
      },
      "execution_count": 3,
      "outputs": []
    },
    {
      "cell_type": "markdown",
      "source": [
        "Model and Training Loop"
      ],
      "metadata": {
        "id": "NQp2mqChcYC6"
      }
    },
    {
      "source": [
        "from transformers import DistilBertForSequenceClassification\n",
        "from torch.optim import AdamW # Import AdamW from torch.optim\n",
        "from tqdm import tqdm\n",
        "\n",
        "# Check device\n",
        "device = torch.device(\"cuda\" if torch.cuda.is_available() else \"cpu\")\n",
        "\n",
        "# Load model\n",
        "model = DistilBertForSequenceClassification.from_pretrained(\n",
        "    \"distilbert-base-uncased\",\n",
        "    num_labels=2  # Binary classification\n",
        ")\n",
        "model.to(device)\n",
        "\n",
        "# Optimizer\n",
        "optimizer = AdamW(model.parameters(), lr=5e-5)\n",
        "\n",
        "# Training loop\n",
        "epochs = 3\n",
        "for epoch in range(epochs):\n",
        "    model.train()\n",
        "    loop = tqdm(train_loader, leave=True)\n",
        "    for batch in loop:\n",
        "        optimizer.zero_grad()\n",
        "\n",
        "        input_ids = batch[\"input_ids\"].to(device)\n",
        "        attention_mask = batch[\"attention_mask\"].to(device)\n",
        "        labels = batch[\"labels\"].to(device)\n",
        "\n",
        "        outputs = model(input_ids, attention_mask=attention_mask, labels=labels)\n",
        "        loss = outputs.loss\n",
        "        loss.backward()\n",
        "        optimizer.step()\n",
        "\n",
        "        loop.set_description(f\"Epoch {epoch + 1}\")\n",
        "        loop.set_postfix(loss=loss.item())"
      ],
      "cell_type": "code",
      "metadata": {
        "colab": {
          "base_uri": "https://localhost:8080/",
          "height": 190,
          "referenced_widgets": [
            "b7a1f6e2868a4b0289eace47feeb0ab7",
            "fba7de317c0c4d7584f673059c0d9ac1",
            "a83d1042cd8841a1bd527a58c085c450",
            "a6de7085c2bb438a942cda553cca2f98",
            "f1d194f894a645d6a10b689b841d0385",
            "fd266a73d03d471ba530f99f26423c1a",
            "0282c7d24aa24a6da2b631c431a973b9",
            "cb6c00dff9204098af4d30bdead9b2a2",
            "54eeba9f72184499bbfb45265955dcd1",
            "14c80058a56741dc8f9520e129c0ce27",
            "a68d92eed62d4e4eb06098d0a53091df"
          ]
        },
        "id": "o95GP1BaW1bu",
        "outputId": "c7f24e07-62cc-47a3-c1bd-26b370300dbc"
      },
      "execution_count": 5,
      "outputs": [
        {
          "output_type": "stream",
          "name": "stderr",
          "text": [
            "Xet Storage is enabled for this repo, but the 'hf_xet' package is not installed. Falling back to regular HTTP download. For better performance, install the package with: `pip install huggingface_hub[hf_xet]` or `pip install hf_xet`\n",
            "WARNING:huggingface_hub.file_download:Xet Storage is enabled for this repo, but the 'hf_xet' package is not installed. Falling back to regular HTTP download. For better performance, install the package with: `pip install huggingface_hub[hf_xet]` or `pip install hf_xet`\n"
          ]
        },
        {
          "output_type": "display_data",
          "data": {
            "text/plain": [
              "model.safetensors:   0%|          | 0.00/268M [00:00<?, ?B/s]"
            ],
            "application/vnd.jupyter.widget-view+json": {
              "version_major": 2,
              "version_minor": 0,
              "model_id": "b7a1f6e2868a4b0289eace47feeb0ab7"
            }
          },
          "metadata": {}
        },
        {
          "output_type": "stream",
          "name": "stderr",
          "text": [
            "Some weights of DistilBertForSequenceClassification were not initialized from the model checkpoint at distilbert-base-uncased and are newly initialized: ['classifier.bias', 'classifier.weight', 'pre_classifier.bias', 'pre_classifier.weight']\n",
            "You should probably TRAIN this model on a down-stream task to be able to use it for predictions and inference.\n",
            "Epoch 1: 100%|██████████| 346/346 [00:39<00:00,  8.71it/s, loss=0.123]\n",
            "Epoch 2: 100%|██████████| 346/346 [00:41<00:00,  8.35it/s, loss=0.0714]\n",
            "Epoch 3: 100%|██████████| 346/346 [00:41<00:00,  8.40it/s, loss=0.0246]\n"
          ]
        }
      ]
    },
    {
      "cell_type": "markdown",
      "source": [
        " Evaluation (Accuracy + Report)"
      ],
      "metadata": {
        "id": "pw39AbBNcbRU"
      }
    },
    {
      "cell_type": "code",
      "source": [
        "from sklearn.metrics import classification_report, accuracy_score\n",
        "\n",
        "model.eval()\n",
        "predictions = []\n",
        "true_labels = []\n",
        "\n",
        "with torch.no_grad():\n",
        "    for batch in val_loader:\n",
        "        input_ids = batch[\"input_ids\"].to(device)\n",
        "        attention_mask = batch[\"attention_mask\"].to(device)\n",
        "        labels = batch[\"labels\"].to(device)\n",
        "\n",
        "        outputs = model(input_ids, attention_mask=attention_mask)\n",
        "        logits = outputs.logits\n",
        "        preds = torch.argmax(logits, dim=1)\n",
        "\n",
        "        predictions.extend(preds.cpu().numpy())\n",
        "        true_labels.extend(labels.cpu().numpy())\n",
        "\n",
        "print(\"Accuracy:\", accuracy_score(true_labels, predictions))\n",
        "print(\"\\nClassification Report:\\n\", classification_report(true_labels, predictions))\n"
      ],
      "metadata": {
        "id": "5--S5AXSWq6S",
        "colab": {
          "base_uri": "https://localhost:8080/"
        },
        "outputId": "ed96b9d1-a217-45f7-900e-f1fe0ccbf933"
      },
      "execution_count": 6,
      "outputs": [
        {
          "output_type": "stream",
          "name": "stdout",
          "text": [
            "Accuracy: 0.8908959537572254\n",
            "\n",
            "Classification Report:\n",
            "               precision    recall  f1-score   support\n",
            "\n",
            "           0       0.88      0.89      0.89       653\n",
            "           1       0.90      0.89      0.90       731\n",
            "\n",
            "    accuracy                           0.89      1384\n",
            "   macro avg       0.89      0.89      0.89      1384\n",
            "weighted avg       0.89      0.89      0.89      1384\n",
            "\n"
          ]
        }
      ]
    },
    {
      "cell_type": "markdown",
      "source": [
        "Save Model"
      ],
      "metadata": {
        "id": "-mNUmohoceZp"
      }
    },
    {
      "cell_type": "code",
      "source": [
        "model.save_pretrained(\"distilbert_model\")\n",
        "tokenizer.save_pretrained(\"distilbert_model\")\n"
      ],
      "metadata": {
        "colab": {
          "base_uri": "https://localhost:8080/"
        },
        "id": "_dOSGIrpY4tG",
        "outputId": "7c2b65cd-478a-42aa-dc34-7251438d068e"
      },
      "execution_count": 7,
      "outputs": [
        {
          "output_type": "execute_result",
          "data": {
            "text/plain": [
              "('distilbert_model/tokenizer_config.json',\n",
              " 'distilbert_model/special_tokens_map.json',\n",
              " 'distilbert_model/vocab.txt',\n",
              " 'distilbert_model/added_tokens.json',\n",
              " 'distilbert_model/tokenizer.json')"
            ]
          },
          "metadata": {},
          "execution_count": 7
        }
      ]
    },
    {
      "cell_type": "markdown",
      "source": [
        "Load and preprocess the test dataset"
      ],
      "metadata": {
        "id": "SDZTQm9pcjC5"
      }
    },
    {
      "source": [
        "# Load test data using pandas' Excel reader\n",
        "test_df = pd.read_excel(\"/content/test_dataset.xlsx\")\n",
        "# Assign column names to test_df instead of df\n",
        "test_df.columns = [\"label\", \"text\"]\n",
        "\n",
        "# Preview\n",
        "print(test_df.head())\n",
        "\n",
        "# Tokenize test text\n",
        "test_texts = test_df['text'].astype(str).tolist()\n",
        "test_encodings = tokenizer(test_texts, truncation=True, padding=True)\n",
        "\n",
        "# If test labels are available\n",
        "test_labels = test_df['label'].tolist() if 'label' in test_df.columns else None"
      ],
      "cell_type": "code",
      "metadata": {
        "colab": {
          "base_uri": "https://localhost:8080/"
        },
        "id": "3eojuzd4aH7I",
        "outputId": "714451c5-dafe-40f6-ec47-3557ef60a150"
      },
      "execution_count": 13,
      "outputs": [
        {
          "output_type": "stream",
          "name": "stdout",
          "text": [
            "   label                                               text\n",
            "0      0  a gob of drivel so sickly sweet , even the eag...\n",
            "1      0  gangs of new york is an unapologetic mess , wh...\n",
            "2      0  we never really feel involved with the story ,...\n",
            "3      1            this is one of polanski 's best films .\n",
            "4      1  take care of my cat offers a refreshingly diff...\n"
          ]
        }
      ]
    },
    {
      "cell_type": "markdown",
      "source": [
        "Create Test Dataset and Loader"
      ],
      "metadata": {
        "id": "OAHtdztwcumL"
      }
    },
    {
      "cell_type": "code",
      "source": [
        "# Dataset class for test\n",
        "class TestDataset(Dataset):\n",
        "    def __init__(self, encodings, labels=None):\n",
        "        self.encodings = encodings\n",
        "        self.labels = labels\n",
        "\n",
        "    def __getitem__(self, idx):\n",
        "        item = {k: torch.tensor(v[idx]) for k, v in self.encodings.items()}\n",
        "        if self.labels is not None:\n",
        "            item[\"labels\"] = torch.tensor(self.labels[idx])\n",
        "        return item\n",
        "\n",
        "    def __len__(self):\n",
        "        return len(self.encodings[\"input_ids\"])\n",
        "\n",
        "# Create dataset and dataloader\n",
        "test_dataset = TestDataset(test_encodings, test_labels)\n",
        "test_loader = DataLoader(test_dataset, batch_size=16)\n"
      ],
      "metadata": {
        "id": "Z1SvcR2xaLZ_"
      },
      "execution_count": 14,
      "outputs": []
    },
    {
      "cell_type": "markdown",
      "source": [
        "Predict on Test Set"
      ],
      "metadata": {
        "id": "l-1FK-Gocxxz"
      }
    },
    {
      "cell_type": "code",
      "source": [
        "model.eval()\n",
        "test_preds = []\n",
        "true_test_labels = []\n",
        "\n",
        "with torch.no_grad():\n",
        "    for batch in test_loader:\n",
        "        input_ids = batch[\"input_ids\"].to(device)\n",
        "        attention_mask = batch[\"attention_mask\"].to(device)\n",
        "        labels = batch.get(\"labels\")\n",
        "\n",
        "        outputs = model(input_ids, attention_mask=attention_mask)\n",
        "        logits = outputs.logits\n",
        "        preds = torch.argmax(logits, dim=1)\n",
        "\n",
        "        test_preds.extend(preds.cpu().numpy())\n",
        "\n",
        "        if labels is not None:\n",
        "            true_test_labels.extend(labels.numpy())\n",
        "\n",
        "# If labels exist, show performance\n",
        "if test_labels is not None:\n",
        "    print(\"Test Accuracy:\", accuracy_score(true_test_labels, test_preds))\n",
        "    print(\"\\nTest Classification Report:\\n\", classification_report(true_test_labels, test_preds))\n",
        "else:\n",
        "    print(\"Predictions:\", test_preds)\n"
      ],
      "metadata": {
        "colab": {
          "base_uri": "https://localhost:8080/"
        },
        "id": "0CsFkbSWaTS4",
        "outputId": "a63d8781-2904-425b-8704-08668f25dce5"
      },
      "execution_count": 15,
      "outputs": [
        {
          "output_type": "stream",
          "name": "stdout",
          "text": [
            "Test Accuracy: 0.8846153846153846\n",
            "\n",
            "Test Classification Report:\n",
            "               precision    recall  f1-score   support\n",
            "\n",
            "           0       0.90      0.87      0.88       911\n",
            "           1       0.87      0.90      0.89       909\n",
            "\n",
            "    accuracy                           0.88      1820\n",
            "   macro avg       0.88      0.88      0.88      1820\n",
            "weighted avg       0.88      0.88      0.88      1820\n",
            "\n"
          ]
        }
      ]
    },
    {
      "cell_type": "markdown",
      "source": [
        " Predict on a Single Custom Input"
      ],
      "metadata": {
        "id": "4BAHi69dc47O"
      }
    },
    {
      "cell_type": "code",
      "source": [
        "def predict_text(text):\n",
        "    model.eval()\n",
        "\n",
        "    # Tokenize input\n",
        "    inputs = tokenizer(text, return_tensors=\"pt\", truncation=True, padding=True)\n",
        "    inputs = {k: v.to(device) for k, v in inputs.items()}\n",
        "\n",
        "    # Predict\n",
        "    with torch.no_grad():\n",
        "        outputs = model(**inputs)\n",
        "        logits = outputs.logits\n",
        "        predicted_class = torch.argmax(logits, dim=1).item()\n",
        "\n",
        "    sentiment = \"Positive\" if predicted_class == 1 else \"Negative\"\n",
        "\n",
        "    print(f\"Text: {text}\")\n",
        "    print(f\"Predicted Label: {predicted_class} ({sentiment})\")\n",
        "    return predicted_class, sentiment\n",
        "\n",
        "# ➕ Example: Positive\n",
        "predict_text(\"This movie was absolutely amazing, I loved it!\")\n",
        "\n",
        "# ➖ Example: Negative\n",
        "predict_text(\"The movie was incredibly boring and a complete waste of time.\")\n"
      ],
      "metadata": {
        "colab": {
          "base_uri": "https://localhost:8080/"
        },
        "id": "FlwnnFQ1bA-f",
        "outputId": "a2760b6f-dc36-40d8-afe8-315a0355c2c7"
      },
      "execution_count": 18,
      "outputs": [
        {
          "output_type": "stream",
          "name": "stdout",
          "text": [
            "Text: This movie was absolutely amazing, I loved it!\n",
            "Predicted Label: 1 (Positive)\n",
            "Text: The movie was incredibly boring and a complete waste of time.\n",
            "Predicted Label: 0 (Negative)\n"
          ]
        },
        {
          "output_type": "execute_result",
          "data": {
            "text/plain": [
              "(0, 'Negative')"
            ]
          },
          "metadata": {},
          "execution_count": 18
        }
      ]
    },
    {
      "cell_type": "markdown",
      "source": [
        "Save the Trained Model & Tokenizer as pkl file"
      ],
      "metadata": {
        "id": "MsBffdE5dBKL"
      }
    },
    {
      "cell_type": "code",
      "source": [
        "import joblib\n",
        "import os\n",
        "\n",
        "# Create a directory to save model\n",
        "model_dir = \"saved_model\"\n",
        "os.makedirs(model_dir, exist_ok=True)\n",
        "\n",
        "# Save the model and tokenizer using Hugging Face's built-in methods\n",
        "model.save_pretrained(model_dir)\n",
        "tokenizer.save_pretrained(model_dir)\n",
        "\n",
        "# Optional: Save path in a .pkl for Streamlit loading if needed\n",
        "joblib.dump(model_dir, \"model_path.pkl\")\n"
      ],
      "metadata": {
        "colab": {
          "base_uri": "https://localhost:8080/"
        },
        "id": "FFu0uxYnbcGb",
        "outputId": "9756798a-80d9-4805-bf2c-79e97076e775"
      },
      "execution_count": 19,
      "outputs": [
        {
          "output_type": "execute_result",
          "data": {
            "text/plain": [
              "['model_path.pkl']"
            ]
          },
          "metadata": {},
          "execution_count": 19
        }
      ]
    }
  ]
}